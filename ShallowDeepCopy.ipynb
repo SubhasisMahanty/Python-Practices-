{
 "cells": [
  {
   "cell_type": "code",
   "execution_count": 7,
   "metadata": {},
   "outputs": [
    {
     "name": "stdout",
     "output_type": "stream",
     "text": [
      "1:  ['Subhasis', [21, 'India']]\n",
      "2:  ['Mahanty', [23, 'India']]\n"
     ]
    }
   ],
   "source": [
    "from copy import deepcopy \n",
    "\n",
    "f_p = [\"Subhasis\",[21,\"India\"]]\n",
    "#s_p=f_p.copy() // Shalow copy \n",
    "s_p = deepcopy(f_p) #Deep Copy\n",
    "\n",
    "\n",
    "s_p[0] = \"Mahanty\"\n",
    "s_p[1][0]=23\n",
    "\n",
    "print(\"1: \",f_p)\n",
    "print(\"2: \",s_p)"
   ]
  },
  {
   "cell_type": "code",
   "execution_count": null,
   "metadata": {},
   "outputs": [],
   "source": []
  }
 ],
 "metadata": {
  "kernelspec": {
   "display_name": "Python 3",
   "language": "python",
   "name": "python3"
  },
  "language_info": {
   "codemirror_mode": {
    "name": "ipython",
    "version": 3
   },
   "file_extension": ".py",
   "mimetype": "text/x-python",
   "name": "python",
   "nbconvert_exporter": "python",
   "pygments_lexer": "ipython3",
   "version": "3.8.5"
  }
 },
 "nbformat": 4,
 "nbformat_minor": 4
}
